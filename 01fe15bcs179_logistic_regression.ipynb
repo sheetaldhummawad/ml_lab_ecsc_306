{
 "cells": [
  {
   "cell_type": "code",
   "execution_count": null,
   "metadata": {
    "collapsed": true
   },
   "outputs": [],
   "source": [
    "import tensorflow as tf\n",
    "import matplotlib.pyplot as plt\n",
    "a=tf.constant([1.0,2.0,3.0,4.0,5.0],name='f')\n",
    "b=tf.constant([1.0,2.0,3.0,4.0,5.0],name='s')\n",
    "epoch=tf.constant(500)\n",
    "lr=0.005\n",
    "for i in range(2):\n",
    "    p=tf.multiply(epoch,(i+1))\n",
    "    t1=0.0\n",
    "    t0=0.0\n",
    "    s1=tf.reduce_sum(tf.multiply(tf.subtract(tf.add(tf.multiply(a,t1),t0),b),a))\n",
    "    s0=tf.reduce_sum(tf.subtract(tf.add(tf.multiply(a,t1),t0),b))\n",
    "    teta1=tf.subtract(t1,tf.multiply(lr,tf.divide(s1,tf.cast(tf.size(a),tf.float32))))\n",
    "    teta0=tf.subtract(t0,tf.multiply(lr,tf.divide(s0,tf.cast(tf.size(a),tf.float32))))\n",
    "    threshold=0.001\n",
    "    model=tf.global_variables_initializer()\n",
    "   \n",
    "    with tf.Session() as sess:\n",
    "       sess.run(model)\n",
    "       for j in range(sess.run(p)):\n",
    "           t1=teta1\n",
    "           t0=teta0\n",
    "           s1=tf.reduce_sum(tf.multiply(tf.subtract(tf.add(tf.multiply(a,t1),t0),b),a))\n",
    "           s0=tf.reduce_sum(tf.subtract(tf.add(tf.multiply(a,t1),t0),b))\n",
    "           teta1=tf.subtract(t1,tf.multiply(lr,tf.divide(s1,tf.cast(tf.size(a),tf.float32))))\n",
    "           teta0=tf.subtract(t0,tf.multiply(lr,tf.divide(s0,tf.cast(tf.size(a),tf.float32))))\n",
    "       print(\"epoch value : \",sess.run(p))\n",
    "       print(\"theta1 :\",sess.run(teta1))\n",
    "       print(\"theta0 :\",sess.run(teta0))\n"
   ]
  },
  {
   "cell_type": "code",
   "execution_count": null,
   "metadata": {
    "collapsed": true
   },
   "outputs": [],
   "source": []
  }
 ],
 "metadata": {
  "kernelspec": {
   "display_name": "Python 3",
   "language": "python",
   "name": "python3"
  },
  "language_info": {
   "codemirror_mode": {
    "name": "ipython",
    "version": 3
   },
   "file_extension": ".py",
   "mimetype": "text/x-python",
   "name": "python",
   "nbconvert_exporter": "python",
   "pygments_lexer": "ipython3",
   "version": "3.6.1"
  }
 },
 "nbformat": 4,
 "nbformat_minor": 2
}
